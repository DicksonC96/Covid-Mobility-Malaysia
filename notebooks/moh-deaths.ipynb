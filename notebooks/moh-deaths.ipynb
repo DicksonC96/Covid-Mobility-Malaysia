{
    "cells": [
        {
            "cell_type": "code",
            "execution_count": 1,
            "source": [
                "import pandas as pd\r\n",
                "import numpy as np"
            ],
            "outputs": [],
            "metadata": {}
        },
        {
            "cell_type": "code",
            "execution_count": 3,
            "source": [
                "statedeath = pd.read_csv(\"https://raw.githubusercontent.com/MoH-Malaysia/covid19-public/main/epidemic/deaths_state.csv\")\r\n",
                "print(statedeath.columns)\r\n",
                "statedeath.head()"
            ],
            "outputs": [
                {
                    "output_type": "stream",
                    "name": "stdout",
                    "text": [
                        "Index(['date', 'state', 'deaths_new', 'deaths_new_dod', 'deaths_bid',\n",
                        "       'deaths_bid_dod'],\n",
                        "      dtype='object')\n"
                    ]
                },
                {
                    "output_type": "execute_result",
                    "data": {
                        "text/html": [
                            "<div>\n",
                            "<style scoped>\n",
                            "    .dataframe tbody tr th:only-of-type {\n",
                            "        vertical-align: middle;\n",
                            "    }\n",
                            "\n",
                            "    .dataframe tbody tr th {\n",
                            "        vertical-align: top;\n",
                            "    }\n",
                            "\n",
                            "    .dataframe thead th {\n",
                            "        text-align: right;\n",
                            "    }\n",
                            "</style>\n",
                            "<table border=\"1\" class=\"dataframe\">\n",
                            "  <thead>\n",
                            "    <tr style=\"text-align: right;\">\n",
                            "      <th></th>\n",
                            "      <th>date</th>\n",
                            "      <th>state</th>\n",
                            "      <th>deaths_new</th>\n",
                            "      <th>deaths_new_dod</th>\n",
                            "      <th>deaths_bid</th>\n",
                            "      <th>deaths_bid_dod</th>\n",
                            "    </tr>\n",
                            "  </thead>\n",
                            "  <tbody>\n",
                            "    <tr>\n",
                            "      <th>0</th>\n",
                            "      <td>2020-03-17</td>\n",
                            "      <td>Johor</td>\n",
                            "      <td>1</td>\n",
                            "      <td>NaN</td>\n",
                            "      <td>NaN</td>\n",
                            "      <td>NaN</td>\n",
                            "    </tr>\n",
                            "    <tr>\n",
                            "      <th>1</th>\n",
                            "      <td>2020-03-17</td>\n",
                            "      <td>Kedah</td>\n",
                            "      <td>0</td>\n",
                            "      <td>NaN</td>\n",
                            "      <td>NaN</td>\n",
                            "      <td>NaN</td>\n",
                            "    </tr>\n",
                            "    <tr>\n",
                            "      <th>2</th>\n",
                            "      <td>2020-03-17</td>\n",
                            "      <td>Kelantan</td>\n",
                            "      <td>0</td>\n",
                            "      <td>NaN</td>\n",
                            "      <td>NaN</td>\n",
                            "      <td>NaN</td>\n",
                            "    </tr>\n",
                            "    <tr>\n",
                            "      <th>3</th>\n",
                            "      <td>2020-03-17</td>\n",
                            "      <td>Melaka</td>\n",
                            "      <td>0</td>\n",
                            "      <td>NaN</td>\n",
                            "      <td>NaN</td>\n",
                            "      <td>NaN</td>\n",
                            "    </tr>\n",
                            "    <tr>\n",
                            "      <th>4</th>\n",
                            "      <td>2020-03-17</td>\n",
                            "      <td>Negeri Sembilan</td>\n",
                            "      <td>0</td>\n",
                            "      <td>NaN</td>\n",
                            "      <td>NaN</td>\n",
                            "      <td>NaN</td>\n",
                            "    </tr>\n",
                            "  </tbody>\n",
                            "</table>\n",
                            "</div>"
                        ],
                        "text/plain": [
                            "         date            state  deaths_new  deaths_new_dod  deaths_bid  \\\n",
                            "0  2020-03-17            Johor           1             NaN         NaN   \n",
                            "1  2020-03-17            Kedah           0             NaN         NaN   \n",
                            "2  2020-03-17         Kelantan           0             NaN         NaN   \n",
                            "3  2020-03-17           Melaka           0             NaN         NaN   \n",
                            "4  2020-03-17  Negeri Sembilan           0             NaN         NaN   \n",
                            "\n",
                            "   deaths_bid_dod  \n",
                            "0             NaN  \n",
                            "1             NaN  \n",
                            "2             NaN  \n",
                            "3             NaN  \n",
                            "4             NaN  "
                        ]
                    },
                    "metadata": {},
                    "execution_count": 3
                }
            ],
            "metadata": {}
        },
        {
            "cell_type": "code",
            "execution_count": 12,
            "source": [
                "statedeath.drop(columns=['deaths_new_dod', 'deaths_bid_dod'], axis=1, inplace=True)"
            ],
            "outputs": [],
            "metadata": {}
        },
        {
            "cell_type": "code",
            "execution_count": 13,
            "source": [
                "statedeath['state'].replace({\"W.P. \":\"\"}, regex=True, inplace=True)\r\n",
                "statedeath.loc[statedeath['state']=='Pulau Pinang', 'state'] = 'Penang'\r\n",
                "print(statedeath['state'].unique())\r\n",
                "statedeath.describe(include=\"all\")"
            ],
            "outputs": [
                {
                    "output_type": "stream",
                    "name": "stdout",
                    "text": [
                        "['Johor' 'Kedah' 'Kelantan' 'Melaka' 'Negeri Sembilan' 'Pahang' 'Perak'\n",
                        " 'Perlis' 'Penang' 'Sabah' 'Sarawak' 'Selangor' 'Terengganu'\n",
                        " 'Kuala Lumpur' 'Labuan' 'Putrajaya']\n"
                    ]
                },
                {
                    "output_type": "execute_result",
                    "data": {
                        "text/html": [
                            "<div>\n",
                            "<style scoped>\n",
                            "    .dataframe tbody tr th:only-of-type {\n",
                            "        vertical-align: middle;\n",
                            "    }\n",
                            "\n",
                            "    .dataframe tbody tr th {\n",
                            "        vertical-align: top;\n",
                            "    }\n",
                            "\n",
                            "    .dataframe thead th {\n",
                            "        text-align: right;\n",
                            "    }\n",
                            "</style>\n",
                            "<table border=\"1\" class=\"dataframe\">\n",
                            "  <thead>\n",
                            "    <tr style=\"text-align: right;\">\n",
                            "      <th></th>\n",
                            "      <th>date</th>\n",
                            "      <th>state</th>\n",
                            "      <th>deaths_new</th>\n",
                            "      <th>deaths_bid</th>\n",
                            "    </tr>\n",
                            "  </thead>\n",
                            "  <tbody>\n",
                            "    <tr>\n",
                            "      <th>count</th>\n",
                            "      <td>8688</td>\n",
                            "      <td>8688</td>\n",
                            "      <td>8688.000000</td>\n",
                            "      <td>4945.00000</td>\n",
                            "    </tr>\n",
                            "    <tr>\n",
                            "      <th>unique</th>\n",
                            "      <td>543</td>\n",
                            "      <td>16</td>\n",
                            "      <td>NaN</td>\n",
                            "      <td>NaN</td>\n",
                            "    </tr>\n",
                            "    <tr>\n",
                            "      <th>top</th>\n",
                            "      <td>2020-07-06</td>\n",
                            "      <td>Perak</td>\n",
                            "      <td>NaN</td>\n",
                            "      <td>NaN</td>\n",
                            "    </tr>\n",
                            "    <tr>\n",
                            "      <th>freq</th>\n",
                            "      <td>16</td>\n",
                            "      <td>543</td>\n",
                            "      <td>NaN</td>\n",
                            "      <td>NaN</td>\n",
                            "    </tr>\n",
                            "    <tr>\n",
                            "      <th>mean</th>\n",
                            "      <td>NaN</td>\n",
                            "      <td>NaN</td>\n",
                            "      <td>2.282113</td>\n",
                            "      <td>0.71183</td>\n",
                            "    </tr>\n",
                            "    <tr>\n",
                            "      <th>std</th>\n",
                            "      <td>NaN</td>\n",
                            "      <td>NaN</td>\n",
                            "      <td>9.214177</td>\n",
                            "      <td>3.47152</td>\n",
                            "    </tr>\n",
                            "    <tr>\n",
                            "      <th>min</th>\n",
                            "      <td>NaN</td>\n",
                            "      <td>NaN</td>\n",
                            "      <td>0.000000</td>\n",
                            "      <td>0.00000</td>\n",
                            "    </tr>\n",
                            "    <tr>\n",
                            "      <th>25%</th>\n",
                            "      <td>NaN</td>\n",
                            "      <td>NaN</td>\n",
                            "      <td>0.000000</td>\n",
                            "      <td>0.00000</td>\n",
                            "    </tr>\n",
                            "    <tr>\n",
                            "      <th>50%</th>\n",
                            "      <td>NaN</td>\n",
                            "      <td>NaN</td>\n",
                            "      <td>0.000000</td>\n",
                            "      <td>0.00000</td>\n",
                            "    </tr>\n",
                            "    <tr>\n",
                            "      <th>75%</th>\n",
                            "      <td>NaN</td>\n",
                            "      <td>NaN</td>\n",
                            "      <td>1.000000</td>\n",
                            "      <td>0.00000</td>\n",
                            "    </tr>\n",
                            "    <tr>\n",
                            "      <th>max</th>\n",
                            "      <td>NaN</td>\n",
                            "      <td>NaN</td>\n",
                            "      <td>221.000000</td>\n",
                            "      <td>67.00000</td>\n",
                            "    </tr>\n",
                            "  </tbody>\n",
                            "</table>\n",
                            "</div>"
                        ],
                        "text/plain": [
                            "              date  state   deaths_new  deaths_bid\n",
                            "count         8688   8688  8688.000000  4945.00000\n",
                            "unique         543     16          NaN         NaN\n",
                            "top     2020-07-06  Perak          NaN         NaN\n",
                            "freq            16    543          NaN         NaN\n",
                            "mean           NaN    NaN     2.282113     0.71183\n",
                            "std            NaN    NaN     9.214177     3.47152\n",
                            "min            NaN    NaN     0.000000     0.00000\n",
                            "25%            NaN    NaN     0.000000     0.00000\n",
                            "50%            NaN    NaN     0.000000     0.00000\n",
                            "75%            NaN    NaN     1.000000     0.00000\n",
                            "max            NaN    NaN   221.000000    67.00000"
                        ]
                    },
                    "metadata": {},
                    "execution_count": 13
                }
            ],
            "metadata": {}
        },
        {
            "cell_type": "code",
            "execution_count": null,
            "source": [
                "# Not updated (skipped)\r\n",
                "mycase = pd.read_csv(\"https://raw.githubusercontent.com/MoH-Malaysia/covid19-public/main/epidemic/cases_malaysia.csv\")\r\n",
                "print(mycase.columns)\r\n",
                "mycase = mycase[['date', 'cases_new', 'cases_import', 'cases_recovered']]\r\n",
                "mycase['state'] = 'Malaysia'\r\n",
                "mycase.head()"
            ],
            "outputs": [],
            "metadata": {}
        },
        {
            "cell_type": "code",
            "execution_count": null,
            "source": [
                "# Not updated (skipped)\r\n",
                "mohcases = pd.concat([statecase, mycase])\r\n",
                "print(mohcases['state'].unique())\r\n",
                "mohcases.describe()"
            ],
            "outputs": [],
            "metadata": {}
        },
        {
            "cell_type": "code",
            "execution_count": 14,
            "source": [
                "#mohcases.to_csv(\"../data/moh-cases.csv\", index=False)\r\n",
                "statedeath.to_csv(\"../data/moh-deaths.csv\", index=False)"
            ],
            "outputs": [],
            "metadata": {}
        }
    ],
    "metadata": {
        "orig_nbformat": 4,
        "language_info": {
            "name": "python",
            "version": "3.9.0",
            "mimetype": "text/x-python",
            "codemirror_mode": {
                "name": "ipython",
                "version": 3
            },
            "pygments_lexer": "ipython3",
            "nbconvert_exporter": "python",
            "file_extension": ".py"
        },
        "kernelspec": {
            "name": "python3",
            "display_name": "Python 3.9.0 64-bit"
        },
        "interpreter": {
            "hash": "33dc6d49505b4536b6a128d9d7c879e1fa44477ad44947bbbe73093067fe6393"
        }
    },
    "nbformat": 4,
    "nbformat_minor": 2
}