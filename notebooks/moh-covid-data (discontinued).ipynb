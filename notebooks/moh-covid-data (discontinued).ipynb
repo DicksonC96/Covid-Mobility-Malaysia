{
    "cells": [
        {
            "cell_type": "code",
            "execution_count": null,
            "source": [
                "import pandas as pd\r\n",
                "import numpy as np"
            ],
            "outputs": [],
            "metadata": {}
        },
        {
            "cell_type": "code",
            "execution_count": null,
            "source": [
                "casesdata = pd.read_csv(\"https://raw.githubusercontent.com/MoH-Malaysia/covid19-public/main/epidemic/cases_state.csv\")\r\n",
                "print(casesdata.columns)\r\n",
                "casesdata.head()"
            ],
            "outputs": [],
            "metadata": {}
        },
        {
            "cell_type": "code",
            "execution_count": null,
            "source": [
                "casesdata['state'].replace({\"W.P. \":\"\"}, regex=True, inplace=True)\r\n",
                "casesdata.loc[casesdata['state']=='Pulau Pinang', 'state'] = 'Penang'\r\n",
                "print(casesdata['state'].unique())\r\n",
                "casesdata.describe(include=\"all\")"
            ],
            "outputs": [],
            "metadata": {}
        },
        {
            "cell_type": "markdown",
            "source": [
                "## Let's grab the \"checkin\" csv file again"
            ],
            "metadata": {}
        },
        {
            "cell_type": "code",
            "execution_count": null,
            "source": [
                "checkindata = pd.read_csv(\"https://raw.githubusercontent.com/MoH-Malaysia/covid19-public/main/mysejahtera/checkin_state.csv\")\r\n",
                "print(checkindata.columns)\r\n",
                "checkindata.head()"
            ],
            "outputs": [],
            "metadata": {}
        },
        {
            "cell_type": "code",
            "execution_count": null,
            "source": [
                "print(checkindata['state'].unique())\r\n",
                "checkindata['state'].replace({\"W.P. \":\"\"}, regex=True, inplace=True)\r\n",
                "checkindata.loc[checkindata['state']=='Pulau Pinang', 'state'] = 'Penang'\r\n",
                "checkindata.loc[checkindata['state']=='KualaLumpur', 'state'] = 'Kuala Lumpur'\r\n",
                "checkindata.state.unique()"
            ],
            "outputs": [],
            "metadata": {}
        },
        {
            "cell_type": "code",
            "execution_count": null,
            "source": [
                "# Normalize checkins, unique_ind and unique_loc\r\n",
                "for col in ['checkins', 'unique_ind', 'unique_loc']:\r\n",
                "    mean_val = checkindata.loc[checkindata[\"date\"].str.contains(\"2020-12-\"), col].mean()\r\n",
                "    checkindata[col+\"-norm\"] = checkindata[col] - mean_val\r\n",
                "    min_val = checkindata[col].min()\r\n",
                "    max_val = checkindata[col].max()\r\n",
                "    checkindata[col+\"-norm\"] = ((checkindata[col+\"-norm\"] - min_val)/ (max_val - min_val) - 0.5) * 200\r\n",
                "\r\n",
                "checkindata.describe(include=\"all\")"
            ],
            "outputs": [],
            "metadata": {}
        },
        {
            "cell_type": "code",
            "execution_count": null,
            "source": [
                "mohdata = pd.merge(casesdata, checkindata, on=['date', 'state'], how='outer')\r\n",
                "mohdata.info()\r\n",
                "\r\n",
                "mohdata.to_csv(\"../data/moh-covid-data.csv\", index=False)"
            ],
            "outputs": [],
            "metadata": {}
        }
    ],
    "metadata": {
        "orig_nbformat": 4,
        "language_info": {
            "name": "python",
            "version": "3.9.0",
            "mimetype": "text/x-python",
            "codemirror_mode": {
                "name": "ipython",
                "version": 3
            },
            "pygments_lexer": "ipython3",
            "nbconvert_exporter": "python",
            "file_extension": ".py"
        },
        "kernelspec": {
            "name": "python3",
            "display_name": "Python 3.9.0 64-bit"
        },
        "interpreter": {
            "hash": "33dc6d49505b4536b6a128d9d7c879e1fa44477ad44947bbbe73093067fe6393"
        }
    },
    "nbformat": 4,
    "nbformat_minor": 2
}