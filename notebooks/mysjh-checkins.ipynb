{
    "cells": [
        {
            "cell_type": "code",
            "execution_count": 5,
            "source": [
                "import pandas as pd\r\n",
                "import numpy as np"
            ],
            "outputs": [],
            "metadata": {}
        },
        {
            "cell_type": "code",
            "execution_count": 6,
            "source": [
                "checkinstate = pd.read_csv(\"https://raw.githubusercontent.com/MoH-Malaysia/covid19-public/main/mysejahtera/checkin_state.csv\")\r\n",
                "checkinstate.head()"
            ],
            "outputs": [
                {
                    "output_type": "stream",
                    "name": "stdout",
                    "text": [
                        "Index(['date', 'state', 'checkins', 'unique_ind', 'unique_loc'], dtype='object')\n"
                    ]
                },
                {
                    "output_type": "execute_result",
                    "data": {
                        "text/plain": [
                            "         date            state  checkins  unique_ind  unique_loc\n",
                            "0  2020-12-01            Johor   1996696      868521       81635\n",
                            "1  2020-12-01            Kedah    654634      341620       32760\n",
                            "2  2020-12-01         Kelantan    186507      108035       16298\n",
                            "3  2020-12-01           Melaka    544619      241854       21458\n",
                            "4  2020-12-01  Negeri Sembilan    559390      266899       22749"
                        ],
                        "text/html": [
                            "<div>\n",
                            "<style scoped>\n",
                            "    .dataframe tbody tr th:only-of-type {\n",
                            "        vertical-align: middle;\n",
                            "    }\n",
                            "\n",
                            "    .dataframe tbody tr th {\n",
                            "        vertical-align: top;\n",
                            "    }\n",
                            "\n",
                            "    .dataframe thead th {\n",
                            "        text-align: right;\n",
                            "    }\n",
                            "</style>\n",
                            "<table border=\"1\" class=\"dataframe\">\n",
                            "  <thead>\n",
                            "    <tr style=\"text-align: right;\">\n",
                            "      <th></th>\n",
                            "      <th>date</th>\n",
                            "      <th>state</th>\n",
                            "      <th>checkins</th>\n",
                            "      <th>unique_ind</th>\n",
                            "      <th>unique_loc</th>\n",
                            "    </tr>\n",
                            "  </thead>\n",
                            "  <tbody>\n",
                            "    <tr>\n",
                            "      <th>0</th>\n",
                            "      <td>2020-12-01</td>\n",
                            "      <td>Johor</td>\n",
                            "      <td>1996696</td>\n",
                            "      <td>868521</td>\n",
                            "      <td>81635</td>\n",
                            "    </tr>\n",
                            "    <tr>\n",
                            "      <th>1</th>\n",
                            "      <td>2020-12-01</td>\n",
                            "      <td>Kedah</td>\n",
                            "      <td>654634</td>\n",
                            "      <td>341620</td>\n",
                            "      <td>32760</td>\n",
                            "    </tr>\n",
                            "    <tr>\n",
                            "      <th>2</th>\n",
                            "      <td>2020-12-01</td>\n",
                            "      <td>Kelantan</td>\n",
                            "      <td>186507</td>\n",
                            "      <td>108035</td>\n",
                            "      <td>16298</td>\n",
                            "    </tr>\n",
                            "    <tr>\n",
                            "      <th>3</th>\n",
                            "      <td>2020-12-01</td>\n",
                            "      <td>Melaka</td>\n",
                            "      <td>544619</td>\n",
                            "      <td>241854</td>\n",
                            "      <td>21458</td>\n",
                            "    </tr>\n",
                            "    <tr>\n",
                            "      <th>4</th>\n",
                            "      <td>2020-12-01</td>\n",
                            "      <td>Negeri Sembilan</td>\n",
                            "      <td>559390</td>\n",
                            "      <td>266899</td>\n",
                            "      <td>22749</td>\n",
                            "    </tr>\n",
                            "  </tbody>\n",
                            "</table>\n",
                            "</div>"
                        ]
                    },
                    "metadata": {},
                    "execution_count": 6
                }
            ],
            "metadata": {}
        },
        {
            "cell_type": "code",
            "execution_count": 8,
            "source": [
                "print(checkinstate['state'].unique())\r\n",
                "checkinstate['state'].replace({\"W.P. \":\"\"}, regex=True, inplace=True)\r\n",
                "checkinstate.loc[checkinstate['state']=='Pulau Pinang', 'state'] = 'Penang'\r\n",
                "checkinstate.loc[checkinstate['state']=='KualaLumpur', 'state'] = 'Kuala Lumpur'\r\n",
                "checkinstate.state.unique()"
            ],
            "outputs": [
                {
                    "output_type": "stream",
                    "name": "stdout",
                    "text": [
                        "['Johor' 'Kedah' 'Kelantan' 'Melaka' 'Negeri Sembilan' 'Pahang' 'Perak'\n",
                        " 'Perlis' 'Pulau Pinang' 'Sabah' 'Sarawak' 'Selangor' 'Terengganu'\n",
                        " 'W.P. KualaLumpur' 'W.P. Labuan' 'W.P. Putrajaya']\n"
                    ]
                },
                {
                    "output_type": "execute_result",
                    "data": {
                        "text/plain": [
                            "array(['Johor', 'Kedah', 'Kelantan', 'Melaka', 'Negeri Sembilan',\n",
                            "       'Pahang', 'Perak', 'Perlis', 'Penang', 'Sabah', 'Sarawak',\n",
                            "       'Selangor', 'Terengganu', 'Kuala Lumpur', 'Labuan', 'Putrajaya'],\n",
                            "      dtype=object)"
                        ]
                    },
                    "metadata": {},
                    "execution_count": 8
                }
            ],
            "metadata": {}
        },
        {
            "cell_type": "code",
            "execution_count": 9,
            "source": [
                "checkinmy = pd.read_csv(\"https://raw.githubusercontent.com/MoH-Malaysia/covid19-public/main/mysejahtera/checkin_malaysia.csv\")\r\n",
                "print(checkinmy.columns)\r\n",
                "checkinmy['state'] = 'Malaysia'\r\n",
                "checkinmy.head()"
            ],
            "outputs": [
                {
                    "output_type": "stream",
                    "name": "stdout",
                    "text": [
                        "Index(['date', 'checkins', 'unique_ind', 'unique_loc'], dtype='object')\n"
                    ]
                },
                {
                    "output_type": "execute_result",
                    "data": {
                        "text/plain": [
                            "         date  checkins  unique_ind  unique_loc     state\n",
                            "0  2020-12-01  17492265     6614474      630363  Malaysia\n",
                            "1  2020-12-02  17695726     6667261      648752  Malaysia\n",
                            "2  2020-12-03  17063123     6549583      645604  Malaysia\n",
                            "3  2020-12-04  18350879     6803979      622383  Malaysia\n",
                            "4  2020-12-05  19711082     6845366      573132  Malaysia"
                        ],
                        "text/html": [
                            "<div>\n",
                            "<style scoped>\n",
                            "    .dataframe tbody tr th:only-of-type {\n",
                            "        vertical-align: middle;\n",
                            "    }\n",
                            "\n",
                            "    .dataframe tbody tr th {\n",
                            "        vertical-align: top;\n",
                            "    }\n",
                            "\n",
                            "    .dataframe thead th {\n",
                            "        text-align: right;\n",
                            "    }\n",
                            "</style>\n",
                            "<table border=\"1\" class=\"dataframe\">\n",
                            "  <thead>\n",
                            "    <tr style=\"text-align: right;\">\n",
                            "      <th></th>\n",
                            "      <th>date</th>\n",
                            "      <th>checkins</th>\n",
                            "      <th>unique_ind</th>\n",
                            "      <th>unique_loc</th>\n",
                            "      <th>state</th>\n",
                            "    </tr>\n",
                            "  </thead>\n",
                            "  <tbody>\n",
                            "    <tr>\n",
                            "      <th>0</th>\n",
                            "      <td>2020-12-01</td>\n",
                            "      <td>17492265</td>\n",
                            "      <td>6614474</td>\n",
                            "      <td>630363</td>\n",
                            "      <td>Malaysia</td>\n",
                            "    </tr>\n",
                            "    <tr>\n",
                            "      <th>1</th>\n",
                            "      <td>2020-12-02</td>\n",
                            "      <td>17695726</td>\n",
                            "      <td>6667261</td>\n",
                            "      <td>648752</td>\n",
                            "      <td>Malaysia</td>\n",
                            "    </tr>\n",
                            "    <tr>\n",
                            "      <th>2</th>\n",
                            "      <td>2020-12-03</td>\n",
                            "      <td>17063123</td>\n",
                            "      <td>6549583</td>\n",
                            "      <td>645604</td>\n",
                            "      <td>Malaysia</td>\n",
                            "    </tr>\n",
                            "    <tr>\n",
                            "      <th>3</th>\n",
                            "      <td>2020-12-04</td>\n",
                            "      <td>18350879</td>\n",
                            "      <td>6803979</td>\n",
                            "      <td>622383</td>\n",
                            "      <td>Malaysia</td>\n",
                            "    </tr>\n",
                            "    <tr>\n",
                            "      <th>4</th>\n",
                            "      <td>2020-12-05</td>\n",
                            "      <td>19711082</td>\n",
                            "      <td>6845366</td>\n",
                            "      <td>573132</td>\n",
                            "      <td>Malaysia</td>\n",
                            "    </tr>\n",
                            "  </tbody>\n",
                            "</table>\n",
                            "</div>"
                        ]
                    },
                    "metadata": {},
                    "execution_count": 9
                }
            ],
            "metadata": {}
        },
        {
            "cell_type": "code",
            "execution_count": 13,
            "source": [
                "checkindata = pd.concat([checkinstate, checkinmy])\r\n",
                "checkindata['state'].unique()"
            ],
            "outputs": [
                {
                    "output_type": "execute_result",
                    "data": {
                        "text/plain": [
                            "array(['Johor', 'Kedah', 'Kelantan', 'Melaka', 'Negeri Sembilan',\n",
                            "       'Pahang', 'Perak', 'Perlis', 'Penang', 'Sabah', 'Sarawak',\n",
                            "       'Selangor', 'Terengganu', 'Kuala Lumpur', 'Labuan', 'Putrajaya',\n",
                            "       'Malaysia'], dtype=object)"
                        ]
                    },
                    "metadata": {},
                    "execution_count": 13
                }
            ],
            "metadata": {}
        },
        {
            "cell_type": "code",
            "execution_count": 14,
            "source": [
                "checkindata.to_csv(\"../data/mysjh-checkins.csv\", index=False)"
            ],
            "outputs": [],
            "metadata": {}
        }
    ],
    "metadata": {
        "orig_nbformat": 4,
        "language_info": {
            "name": "python",
            "version": "3.9.0",
            "mimetype": "text/x-python",
            "codemirror_mode": {
                "name": "ipython",
                "version": 3
            },
            "pygments_lexer": "ipython3",
            "nbconvert_exporter": "python",
            "file_extension": ".py"
        },
        "kernelspec": {
            "name": "python3",
            "display_name": "Python 3.9.0 64-bit"
        },
        "interpreter": {
            "hash": "33dc6d49505b4536b6a128d9d7c879e1fa44477ad44947bbbe73093067fe6393"
        }
    },
    "nbformat": 4,
    "nbformat_minor": 2
}